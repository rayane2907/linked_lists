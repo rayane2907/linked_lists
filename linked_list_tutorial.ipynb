{
  "nbformat": 4,
  "nbformat_minor": 0,
  "metadata": {
    "colab": {
      "provenance": [],
      "authorship_tag": "ABX9TyMFpg7mLu06VesZGWLvVWoy",
      "include_colab_link": true
    },
    "kernelspec": {
      "name": "python3",
      "display_name": "Python 3"
    },
    "language_info": {
      "name": "python"
    }
  },
  "cells": [
    {
      "cell_type": "markdown",
      "metadata": {
        "id": "view-in-github",
        "colab_type": "text"
      },
      "source": [
        "<a href=\"https://colab.research.google.com/github/rayane2907/linked_lists/blob/main/linked_list_tutorial.ipynb\" target=\"_parent\"><img src=\"https://colab.research.google.com/assets/colab-badge.svg\" alt=\"Open In Colab\"/></a>"
      ]
    },
    {
      "cell_type": "markdown",
      "source": [
        "# Singly Linked List\n",
        "## Node Class\n",
        "First, we'll define the Node class, which will represent each element in the linked list."
      ],
      "metadata": {
        "id": "jmcsExexieRZ"
      }
    },
    {
      "cell_type": "code",
      "source": [
        "class Node:\n",
        "    def __init__(self, data):\n",
        "        self.data = data\n",
        "        self.next = None"
      ],
      "metadata": {
        "id": "8G7wHUHXikA5"
      },
      "execution_count": 1,
      "outputs": []
    },
    {
      "cell_type": "markdown",
      "source": [
        "##LinkedList Class\n",
        "Next, we'll define the LinkedList class, which will manage the linked list operations."
      ],
      "metadata": {
        "id": "vGXA7eNKixay"
      }
    },
    {
      "cell_type": "code",
      "source": [
        "class SinglyLinkedList:\n",
        "    def __init__(self):\n",
        "        self.head = None"
      ],
      "metadata": {
        "id": "DUmch6EcitCX"
      },
      "execution_count": 2,
      "outputs": []
    },
    {
      "cell_type": "markdown",
      "source": [
        "## Insertion\n",
        "Let's add methods to insert nodes at the beginning, end, and a specific position."
      ],
      "metadata": {
        "id": "6SXKhLaci2Jl"
      }
    },
    {
      "cell_type": "code",
      "source": [
        "def insert_at_beginning(self, data):\n",
        "    new_node = Node(data)\n",
        "    new_node.next = self.head\n",
        "    self.head = new_node\n",
        "\n",
        "def insert_at_end(self, data):\n",
        "    new_node = Node(data)\n",
        "    if not self.head:\n",
        "        self.head = new_node\n",
        "        return\n",
        "    last_node = self.head\n",
        "    while last_node.next:\n",
        "        last_node = last_node.next\n",
        "    last_node.next = new_node\n",
        "\n",
        "def insert_at_position(self, data, position):\n",
        "    if position == 0:\n",
        "        self.insert_at_beginning(data)\n",
        "        return\n",
        "    new_node = Node(data)\n",
        "    current = self.head\n",
        "    for _ in range(position - 1):\n",
        "        if not current:\n",
        "            raise IndexError(\"Position out of bounds\")\n",
        "        current = current.next\n",
        "    new_node.next = current.next\n",
        "    current.next = new_node"
      ],
      "metadata": {
        "id": "4SB-w0y_i60E"
      },
      "execution_count": 3,
      "outputs": []
    },
    {
      "cell_type": "markdown",
      "source": [
        "##Deletion\n",
        "Now, let's add methods to delete nodes from the beginning, end, and a specific position."
      ],
      "metadata": {
        "id": "h5mfbg7Ai9Ol"
      }
    },
    {
      "cell_type": "code",
      "source": [
        "def delete_from_beginning(self):\n",
        "    if not self.head:\n",
        "        return\n",
        "    self.head = self.head.next\n",
        "\n",
        "def delete_from_end(self):\n",
        "    if not self.head:\n",
        "        return\n",
        "    if not self.head.next:\n",
        "        self.head = None\n",
        "        return\n",
        "    second_last = self.head\n",
        "    while second_last.next.next:\n",
        "        second_last = second_last.next\n",
        "    second_last.next = None\n",
        "\n",
        "def delete_from_position(self, position):\n",
        "    if position == 0:\n",
        "        self.delete_from_beginning()\n",
        "        return\n",
        "    current = self.head\n",
        "    for _ in range(position - 1):\n",
        "        if not current or not current.next:\n",
        "            raise IndexError(\"Position out of bounds\")\n",
        "        current = current.next\n",
        "    current.next = current.next.next"
      ],
      "metadata": {
        "id": "-fSW5x5EjKqC"
      },
      "execution_count": 4,
      "outputs": []
    },
    {
      "cell_type": "markdown",
      "source": [
        "## Traversal\n",
        "Finally, let's add a method to traverse and print the linked list."
      ],
      "metadata": {
        "id": "OSPrQTg4jS1t"
      }
    },
    {
      "cell_type": "code",
      "source": [
        "def traverse(self):\n",
        "    current = self.head\n",
        "    while current:\n",
        "        print(current.data, end=\" -> \")\n",
        "        current = current.next\n",
        "    print(\"None\")"
      ],
      "metadata": {
        "id": "J6GmPWhajcVo"
      },
      "execution_count": 5,
      "outputs": []
    },
    {
      "cell_type": "markdown",
      "source": [
        "## Complete SinglyLinkedList Class\n",
        "Here is the complete SinglyLinkedList class with all the methods."
      ],
      "metadata": {
        "id": "4YBNk0xsj_Vu"
      }
    },
    {
      "cell_type": "code",
      "source": [
        "class SinglyLinkedList:\n",
        "    def __init__(self):\n",
        "        self.head = None\n",
        "\n",
        "    def insert_at_beginning(self, data):\n",
        "        new_node = Node(data)\n",
        "        new_node.next = self.head\n",
        "        self.head = new_node\n",
        "\n",
        "    def insert_at_end(self, data):\n",
        "        new_node = Node(data)\n",
        "        if not self.head:\n",
        "            self.head = new_node\n",
        "            return\n",
        "        last_node = self.head\n",
        "        while last_node.next:\n",
        "            last_node = last_node.next\n",
        "        last_node.next = new_node\n",
        "\n",
        "    def insert_at_position(self, data, position):\n",
        "        if position == 0:\n",
        "            self.insert_at_beginning(data)\n",
        "            return\n",
        "        new_node = Node(data)\n",
        "        current = self.head\n",
        "        for _ in range(position - 1):\n",
        "            if not current:\n",
        "                raise IndexError(\"Position out of bounds\")\n",
        "            current = current.next\n",
        "        new_node.next = current.next\n",
        "        current.next = new_node\n",
        "\n",
        "    def delete_from_beginning(self):\n",
        "        if not self.head:\n",
        "            return\n",
        "        self.head = self.head.next\n",
        "\n",
        "    def delete_from_end(self):\n",
        "        if not self.head:\n",
        "            return\n",
        "        if not self.head.next:\n",
        "            self.head = None\n",
        "            return\n",
        "        second_last = self.head\n",
        "        while second_last.next.next:\n",
        "            second_last = second_last.next\n",
        "        second_last.next = None\n",
        "\n",
        "    def delete_from_position(self, position):\n",
        "        if position == 0:\n",
        "            self.delete_from_beginning()\n",
        "            return\n",
        "        current = self.head\n",
        "        for _ in range(position - 1):\n",
        "            if not current or not current.next:\n",
        "                raise IndexError(\"Position out of bounds\")\n",
        "            current = current.next\n",
        "        current.next = current.next.next\n",
        "\n",
        "    def traverse(self):\n",
        "        current = self.head\n",
        "        while current:\n",
        "            print(current.data, end=\" -> \")\n",
        "            current = current.next\n",
        "        print(\"None\")"
      ],
      "metadata": {
        "id": "4pEfPQPaj-Ke"
      },
      "execution_count": 6,
      "outputs": []
    },
    {
      "cell_type": "markdown",
      "source": [
        "# Doubly Linked List\n",
        "## Node Class\n",
        "For a doubly linked list, the Node class will have an additional prev pointer"
      ],
      "metadata": {
        "id": "q7uPYR2NkOXh"
      }
    },
    {
      "cell_type": "code",
      "source": [
        "class DNode:\n",
        "    def __init__(self, data):\n",
        "        self.data = data\n",
        "        self.next = None\n",
        "        self.prev = None"
      ],
      "metadata": {
        "id": "sk3Nt3GXkNbx"
      },
      "execution_count": 7,
      "outputs": []
    },
    {
      "cell_type": "code",
      "source": [
        "class DoublyLinkedList:\n",
        "    def __init__(self):\n",
        "        self.head = None\n",
        "\n",
        "    def insert_at_beginning(self, data):\n",
        "        new_node = DNode(data)\n",
        "        new_node.next = self.head\n",
        "        if self.head:\n",
        "            self.head.prev = new_node\n",
        "        self.head = new_node\n",
        "\n",
        "    def insert_at_end(self, data):\n",
        "        new_node = DNode(data)\n",
        "        if not self.head:\n",
        "            self.head = new_node\n",
        "            return\n",
        "        last_node = self.head\n",
        "        while last_node.next:\n",
        "            last_node = last_node.next\n",
        "        last_node.next = new_node\n",
        "        new_node.prev = last_node\n",
        "\n",
        "    def delete_from_beginning(self):\n",
        "        if not self.head:\n",
        "            return\n",
        "        self.head = self.head.next\n",
        "        if self.head:\n",
        "            self.head.prev = None\n",
        "\n",
        "    def delete_from_end(self):\n",
        "        if not self.head:\n",
        "            return\n",
        "        if not self.head.next:\n",
        "            self.head = None\n",
        "            return\n",
        "        last_node = self.head\n",
        "        while last_node.next:\n",
        "            last_node = last_node.next\n",
        "        last_node.prev.next = None\n",
        "\n",
        "    def traverse(self):\n",
        "        current = self.head\n",
        "        while current:\n",
        "            print(current.data, end=\" <-> \")\n",
        "            current = current.next\n",
        "        print(\"None\")"
      ],
      "metadata": {
        "id": "RfyQvQgjkavk"
      },
      "execution_count": 8,
      "outputs": []
    },
    {
      "cell_type": "markdown",
      "source": [
        "# Circular Linked List\n",
        "## Node Class\n",
        "For a circular linked list, the Node class is the same as the singly linked list."
      ],
      "metadata": {
        "id": "jUougljGkkcW"
      }
    },
    {
      "cell_type": "code",
      "source": [
        "class CNode:\n",
        "    def __init__(self, data):\n",
        "        self.data = data\n",
        "        self.next = None"
      ],
      "metadata": {
        "id": "OCEkvmCFkn5f"
      },
      "execution_count": 9,
      "outputs": []
    },
    {
      "cell_type": "code",
      "source": [
        "class CircularLinkedList:\n",
        "    def __init__(self):\n",
        "        self.head = None\n",
        "\n",
        "    def insert_at_end(self, data):\n",
        "        new_node = CNode(data)\n",
        "        if not self.head:\n",
        "            self.head = new_node\n",
        "            new_node.next = self.head\n",
        "            return\n",
        "        last_node = self.head\n",
        "        while last_node.next != self.head:\n",
        "            last_node = last_node.next\n",
        "        last_node.next = new_node\n",
        "        new_node.next = self.head\n",
        "\n",
        "    def delete_from_end(self):\n",
        "        if not self.head:\n",
        "            return\n",
        "        if self.head.next == self.head:\n",
        "            self.head = None\n",
        "            return\n",
        "        last_node = self.head\n",
        "        while last_node.next.next != self.head:\n",
        "            last_node = last_node.next\n",
        "        last_node.next = self.head\n",
        "\n",
        "    def traverse(self):\n",
        "        if not self.head:\n",
        "            print(\"None\")\n",
        "            return\n",
        "        current = self.head\n",
        "        while True:\n",
        "            print(current.data, end=\" -> \")\n",
        "            current = current.next\n",
        "            if current == self.head:\n",
        "                break\n",
        "        print(current.data, \"(head)\")"
      ],
      "metadata": {
        "id": "jFIPeYA6krmd"
      },
      "execution_count": 10,
      "outputs": []
    },
    {
      "cell_type": "markdown",
      "source": [
        "# Reversing a Linked List"
      ],
      "metadata": {
        "id": "MUZGVAyZkvEO"
      }
    },
    {
      "cell_type": "code",
      "source": [
        "def reverse(self):\n",
        "    prev = None\n",
        "    current = self.head\n",
        "    while current:\n",
        "        next_node = current.next\n",
        "        current.next = prev\n",
        "        prev = current\n",
        "        current = next_node\n",
        "    self.head = prev"
      ],
      "metadata": {
        "id": "TnA7Ai8mlBzK"
      },
      "execution_count": 11,
      "outputs": []
    },
    {
      "cell_type": "markdown",
      "source": [
        "# Detecting a Loop"
      ],
      "metadata": {
        "id": "afmwU1AClHAv"
      }
    },
    {
      "cell_type": "code",
      "source": [
        "def detect_loop(self):\n",
        "    slow = self.head\n",
        "    fast = self.head\n",
        "    while slow and fast and fast.next:\n",
        "        slow = slow.next\n",
        "        fast = fast.next.next\n",
        "        if slow == fast:\n",
        "            return True\n",
        "    return False"
      ],
      "metadata": {
        "id": "ULwQlM6XlJxM"
      },
      "execution_count": 12,
      "outputs": []
    },
    {
      "cell_type": "markdown",
      "source": [
        "# Merging Two Linked Lists"
      ],
      "metadata": {
        "id": "1O2UnoUElNgv"
      }
    },
    {
      "cell_type": "code",
      "source": [
        "def merge_sorted(self, other):\n",
        "    p = self.head\n",
        "    q = other.head\n",
        "    s = None\n",
        "    if not p:\n",
        "        return q\n",
        "    if not q:\n",
        "        return p\n",
        "    if p and q:\n",
        "        if p.data <= q.data:\n",
        "            s = p\n",
        "            p = s.next\n",
        "        else:\n",
        "            s = q\n",
        "            q = s.next\n",
        "        new_head = s\n",
        "    while p and q:\n",
        "        if p.data <= q.data:\n",
        "            s.next = p\n",
        "            s = p\n",
        "            p = s.next\n",
        "        else:\n",
        "            s.next = q\n",
        "            s = q\n",
        "            q = s.next\n",
        "    if not p:\n",
        "        s.next = q\n",
        "    if not q:\n",
        "        s.next = p\n",
        "    return new_head"
      ],
      "metadata": {
        "id": "svEApxetlRGP"
      },
      "execution_count": 13,
      "outputs": []
    }
  ]
}