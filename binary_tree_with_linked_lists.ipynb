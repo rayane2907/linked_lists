{
  "nbformat": 4,
  "nbformat_minor": 0,
  "metadata": {
    "colab": {
      "provenance": [],
      "authorship_tag": "ABX9TyPYVaoPxPHsk+Vxgq4N77Ru",
      "include_colab_link": true
    },
    "kernelspec": {
      "name": "python3",
      "display_name": "Python 3"
    },
    "language_info": {
      "name": "python"
    }
  },
  "cells": [
    {
      "cell_type": "markdown",
      "metadata": {
        "id": "view-in-github",
        "colab_type": "text"
      },
      "source": [
        "<a href=\"https://colab.research.google.com/github/rayane2907/linked_lists/blob/main/binary_tree_with_linked_lists.ipynb\" target=\"_parent\"><img src=\"https://colab.research.google.com/assets/colab-badge.svg\" alt=\"Open In Colab\"/></a>"
      ]
    },
    {
      "cell_type": "code",
      "execution_count": null,
      "metadata": {
        "id": "MuVnyF11SffY"
      },
      "outputs": [],
      "source": [
        "class Tree:\n",
        "  class _Node:\n",
        "    __slots__:'_left','right','parent','data'\n",
        "    def __int__(self,left,right,parent,data):\n",
        "      self._left=left\n",
        "      self._right=right\n",
        "      self._parent=parent\n",
        "      self._data=data\n",
        "  class _position:\n",
        "    def __init__(self,container,node):\n",
        "      self._cotainer=cotainer\n",
        "      self._node=node\n",
        "    def _element(self):\n",
        "      return self._node._data\n",
        "    def _validate (self,p):\n",
        "      if not isintance(p, self_position):\n",
        "        raise TypeError ('p should be a valid position')\n",
        "      if p_container is not self:\n",
        "        raise ValueError ('p should be created for this tree')\n",
        "      if p._node._parent is p._node:\n",
        "        raise ValueError ('p is no longer valid position')\n",
        "      return p._node\n",
        "    def _make_position (self, node):\n",
        "      if node is not None:\n",
        "         return self._position\n",
        "      else None\n",
        "    def __init__(self):\n",
        "      self._root= none\n",
        "      self._size = 0\n",
        "    def __len__(self):\n",
        "      return self._size\n",
        "    def root(self):\n",
        "      return self._make_position(self.root)\n",
        "    def parent(self,p):\n",
        "      node = self._validate(p)\n",
        "      return self._make_position(node.parent)\n",
        "    def left(self,p):\n",
        "      node = self._validate(p)\n",
        "      return self._make_position(node.left)\n",
        "   def right(self,p):\n",
        "    node= self._validate(p)\n",
        "    return self._make_position(node.right)\n",
        "   def _nbr_children(self,p):\n",
        "     count=0\n",
        "     if self.left is not None\n",
        "       counter+=1\n",
        "       return counter\n",
        "   def add_root(self,e):\n",
        "     if self.root is not None:\n",
        "       raise ValueError ('root exists')\n",
        "       self._size=1\n",
        "       self._root=self._node(data=e)\n",
        "     return self._make_position(self._root)\n",
        "   def add_left(self, p, e):\n",
        "     node=self._validate(p)\n",
        "     if node.left is not None:\n",
        "       raise ValueError ('left child exists')\n",
        "     node.left=selft._node(e, node)\n",
        "     selff._size+=1\n",
        "     return self._make_position(self._left)\n",
        "   def add_left(self, p, e):\n",
        "     node=left._validate(p)\n",
        "     if node.right is not None:\n",
        "       raise ValueError ('right child exists')\n",
        "     node.right=selft._node(e, node)\n",
        "     selff._size+=1\n",
        "     return self._make_position(self._right)\n",
        "   def _replace(self,p,e):\n",
        "     node=self._validate(p)\n",
        "     old=node._element\n",
        "     node._element=e\n",
        "     return old"
      ]
    }
  ]
}